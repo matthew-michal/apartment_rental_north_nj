{
 "cells": [
  {
   "cell_type": "code",
   "execution_count": 14,
   "id": "8c081506-1bb0-48cb-8e62-f9196c04de19",
   "metadata": {},
   "outputs": [],
   "source": [
    "import xgboost as xgb\n",
    "import pandas as pd\n",
    "from math import radians, cos\n",
    "from datetime import datetime, date, timedelta\n",
    "import pandas as pd\n",
    "from initial_data_pull_test import data_pull\n",
    "from sklearn.preprocessing import LabelEncoder\n",
    "from sklearn.model_selection import train_test_split\n",
    "\n",
    "nj_transit_locations = {\n",
    "    'brick_church': [40.76581846318419, -74.21915255150205],\n",
    "    'chatham': [40.7401922968325, -74.38473871480802],\n",
    "    'convent_station': [40.778934521406896, -74.44347183325733],\n",
    "    'denville': [40.88348292558847, -74.48184630211975],\n",
    "    'dover': [40.887548571222204, -74.55589964058176],\n",
    "    'east_orange': [40.761460414532, -74.21100276083385],\n",
    "    'hackettstown': [40.85215082333791, -74.83467888781628],\n",
    "    'highland_avenue': [40.766972457228775, -74.24355123014908],\n",
    "    'hoboken': [40.70898046045857, -74.0246430608362], #\n",
    "    'lake_hopatcong': [40.904119814030835, -74.66555031993157],\n",
    "    'madison': [40.757211574757704, -74.41541459013588],\n",
    "    'maplewood': [40.7311582228973, -74.27530904549292],\n",
    "    'millburn': [40.72583754037974, -74.303745189671],\n",
    "    'morris_plains': [40.828733316576745, -74.47839671850174],\n",
    "    'morristown': [40.79756715723661, -74.47460155149217],\n",
    "    'mountain_station': [40.76109170550611, -74.25347657839343],\n",
    "    'mount_arlington': [40.89752890181971, -74.63289981056195],\n",
    "    'mount_olive': [40.90760134999547, -74.73072365897825],\n",
    "    'mount_tabor': [40.8759878570467, -74.48183704548632],\n",
    "    'netcong': [40.898021200833895, -74.70758666495435],\n",
    "    'newark_broad': [40.74757642090106, -74.17199820501222],\n",
    "    'orange': [40.77209415825383, -74.23309422970475],\n",
    "    'secaucus_junction': [40.76142100515953, -74.07575294623813],\n",
    "    'short_hills': [40.725313887730955, -74.3238799338488],\n",
    "    'south_orange': [40.74603125221472, -74.26046288967005],\n",
    "    'summit': [40.71681594165216, -74.35768690713812]\n",
    "}\n",
    "\n",
    "\n",
    "\n",
    "def find_station(lat_long):\n",
    "    apt_lat, apt_long = lat_long.split('_')\n",
    "    apt_lat, apt_long = float(apt_lat), float(apt_long)\n",
    "    \n",
    "    for train_station, locations in nj_transit_locations.items():\n",
    "        middle_lat = locations[0]\n",
    "        middle_long = locations[1]\n",
    "        \n",
    "        small_lat, large_lat = middle_lat - 0.75 / 68.97, middle_lat + 0.75 / 68.97\n",
    "        small_long, large_long = middle_long - 0.75 / 55.77, middle_long + 0.75 / 55.77\n",
    "        \n",
    "        if apt_lat >= small_lat and apt_lat <= large_lat:\n",
    "            if apt_long >= small_long and apt_long <= large_long:\n",
    "                return train_station\n",
    "            \n",
    "    return 'not close'\n",
    "    \n",
    "def clean_dates(df):\n",
    "    df.listedDate = pd.to_datetime(df.listedDate).dt.date\n",
    "    df = df.loc[df.listedDate.max() - timedelta(days=14)]\n",
    "    return df"
   ]
  },
  {
   "cell_type": "code",
   "execution_count": 48,
   "id": "b4f34f1f-7576-4669-8e8d-f70e4125105c",
   "metadata": {},
   "outputs": [
    {
     "name": "stdout",
     "output_type": "stream",
     "text": [
      "\u001b[1;32mInstalling seaborn...\u001b[0m\n",
      "✔ Installation Succeeded\n",
      "\u001b[1mInstalling dependencies from Pipfile.lock \u001b[0m\u001b[1;39m(7ad131)...\u001b[0m\n",
      "\u001b[32mAll dependencies are now up-to-date!\u001b[0m\n",
      "\u001b[1;32mUpgrading\u001b[0m seaborn in \u001b[39m dependencies.\u001b[0m\n",
      "\u001b[?25lBuilding requirements...\n",
      "\u001b[2KResolving dependencies....\n",
      "\u001b[2K✔ Success! Locking packages...\n",
      "\u001b[2K\u001b[32m⠋\u001b[0m Locking packages...\n",
      "\u001b[1A\u001b[2K\u001b[?25lBuilding requirements...\n",
      "\u001b[2KResolving dependencies....\n",
      "\u001b[2K✔ Success! Locking packages...\n",
      "\u001b[2K\u001b[32m⠇\u001b[0m Locking packages...\n",
      "\u001b[1A\u001b[2K\u001b[?25lBuilding requirements...\n",
      "\u001b[2KResolving dependencies....\n",
      "\u001b[2K✔ Success! Locking packages...\n",
      "\u001b[2K\u001b[32m⠼\u001b[0m Locking packages...\n",
      "\u001b[1A\u001b[2K\u001b[1mInstalling dependencies from Pipfile.lock \u001b[0m\u001b[1;39m(1ddad5)...\u001b[0m\n",
      "\u001b[32mAll dependencies are now up-to-date!\u001b[0m\n",
      "\u001b[1mInstalling dependencies from Pipfile.lock \u001b[0m\u001b[1;39m(1ddad5)...\u001b[0m\n"
     ]
    }
   ],
   "source": [
    "# !pipenv install seaborn"
   ]
  },
  {
   "cell_type": "code",
   "execution_count": 49,
   "id": "7e04d271-9582-4507-b40f-cac7eb1f7027",
   "metadata": {},
   "outputs": [],
   "source": [
    "import seaborn as sns"
   ]
  },
  {
   "cell_type": "code",
   "execution_count": 15,
   "id": "5ac5eb6b-9bfc-4d04-b878-2d1040ab89ab",
   "metadata": {},
   "outputs": [],
   "source": [
    "df = pd.read_csv('seventh_load.csv')"
   ]
  },
  {
   "cell_type": "code",
   "execution_count": 16,
   "id": "703b125e-ae18-4197-9ac8-687e719ef601",
   "metadata": {},
   "outputs": [],
   "source": [
    "df.zipCode = df.zipCode.astype(str)"
   ]
  },
  {
   "cell_type": "code",
   "execution_count": 17,
   "id": "29d7ab09-16d8-45a4-91c9-bc598ee9c13f",
   "metadata": {},
   "outputs": [
    {
     "data": {
      "text/plain": [
       "Index(['id', 'formattedAddress', 'addressLine1', 'addressLine2', 'city',\n",
       "       'state', 'zipCode', 'county', 'latitude', 'longitude', 'propertyType',\n",
       "       'bedrooms', 'bathrooms', 'status', 'price', 'listingType', 'listedDate',\n",
       "       'removedDate', 'createdDate', 'lastSeenDate', 'daysOnMarket',\n",
       "       'squareFootage', 'yearBuilt', 'lotSize', 'mlsName', 'mlsNumber',\n",
       "       'listingAgent', 'listingOffice', 'hoa'],\n",
       "      dtype='object')"
      ]
     },
     "execution_count": 17,
     "metadata": {},
     "output_type": "execute_result"
    }
   ],
   "source": [
    "df.columns"
   ]
  },
  {
   "cell_type": "code",
   "execution_count": 23,
   "id": "ecd2e8d1-a298-4d4f-b7ee-a24f4107fd91",
   "metadata": {},
   "outputs": [
    {
     "data": {
      "text/plain": [
       "yearBuilt    135\n",
       "dtype: int64"
      ]
     },
     "execution_count": 23,
     "metadata": {},
     "output_type": "execute_result"
    }
   ],
   "source": [
    "df[['yearBuilt']].isna().sum()"
   ]
  },
  {
   "cell_type": "code",
   "execution_count": 32,
   "id": "e5d4dba4-9f0c-4106-bf4d-eae1070797c7",
   "metadata": {},
   "outputs": [
    {
     "data": {
      "text/plain": [
       "(652, 29)"
      ]
     },
     "execution_count": 32,
     "metadata": {},
     "output_type": "execute_result"
    }
   ],
   "source": [
    "df.shape"
   ]
  },
  {
   "cell_type": "code",
   "execution_count": 33,
   "id": "19fe94fc-0e61-4845-b962-b02cacb4853a",
   "metadata": {},
   "outputs": [],
   "source": [
    "feats = [\n",
    "    # 'city',\n",
    "    'latitude', 'longitude',\n",
    "    'propertyType','bedrooms', 'bathrooms', 'yearBuilt', 'lotSize'\n",
    "]"
   ]
  },
  {
   "cell_type": "code",
   "execution_count": 34,
   "id": "eacb0249-0400-4bcb-b616-6c136dad53f6",
   "metadata": {},
   "outputs": [],
   "source": [
    "X_train, X_test, y_train, y_test = train_test_split(\n",
    "    df[feats], df.price, test_size=0.2, random_state=42\n",
    ")\n"
   ]
  },
  {
   "cell_type": "code",
   "execution_count": 35,
   "id": "473cefab-b668-4259-982c-f6c69665bf21",
   "metadata": {},
   "outputs": [],
   "source": [
    "# le_zip = LabelEncoder()\n",
    "le_pt = LabelEncoder()"
   ]
  },
  {
   "cell_type": "code",
   "execution_count": 36,
   "id": "be807550-9bc2-49bb-a6f3-ca423b4827af",
   "metadata": {},
   "outputs": [],
   "source": [
    "# X_train['city'] = le_zip.fit_transform(X_train['city'])\n",
    "X_train['propertyType'] = le_zip.fit_transform(X_train['propertyType'])\n",
    "\n",
    "# X_test['city'] = le_zip.transform(X_test['city'])\n",
    "X_test['propertyType'] = le_zip.transform(X_test['propertyType'])"
   ]
  },
  {
   "cell_type": "code",
   "execution_count": 39,
   "id": "8ff42d80-858c-47ae-84bf-5701b571c56b",
   "metadata": {},
   "outputs": [],
   "source": [
    "train = xgb.DMatrix(X_train, label=y_train)\n",
    "valid = xgb.DMatrix(X_test, label=y_test)"
   ]
  },
  {
   "cell_type": "code",
   "execution_count": 40,
   "id": "16b782d8-06ca-4ca6-943b-23e448db5680",
   "metadata": {},
   "outputs": [],
   "source": [
    "best_params = {\n",
    "    'learning_rate': 0.09585355369315604,\n",
    "    'max_depth': 30,\n",
    "    'min_child_weight': 1.060597050922164,\n",
    "    'objective': 'reg:linear',\n",
    "    'reg_alpha': 0.018060244040060163,\n",
    "    'reg_lambda': 0.011658731377413597,\n",
    "    'seed': 42\n",
    "}"
   ]
  },
  {
   "cell_type": "code",
   "execution_count": 41,
   "id": "c3c206ab-97f3-45a9-ab81-c1cd768f269f",
   "metadata": {
    "collapsed": true,
    "jupyter": {
     "outputs_hidden": true
    }
   },
   "outputs": [
    {
     "name": "stdout",
     "output_type": "stream",
     "text": [
      "[0]\tvalidation-rmse:1248.41253\n",
      "[1]\tvalidation-rmse:1134.12752\n",
      "[2]\tvalidation-rmse:1036.41365\n",
      "[3]\tvalidation-rmse:954.10726\n",
      "[4]\tvalidation-rmse:884.65279\n",
      "[5]\tvalidation-rmse:827.82920\n",
      "[6]\tvalidation-rmse:782.75740\n",
      "[7]\tvalidation-rmse:749.62380\n",
      "[8]\tvalidation-rmse:721.40411\n",
      "[9]\tvalidation-rmse:707.67828\n",
      "[10]\tvalidation-rmse:692.57948\n",
      "[11]\tvalidation-rmse:684.93018\n",
      "[12]\tvalidation-rmse:678.51597\n",
      "[13]\tvalidation-rmse:676.11459\n",
      "[14]\tvalidation-rmse:669.15214\n",
      "[15]\tvalidation-rmse:665.93996\n",
      "[16]\tvalidation-rmse:670.06196\n",
      "[17]\tvalidation-rmse:668.20193\n",
      "[18]\tvalidation-rmse:671.67494\n",
      "[19]\tvalidation-rmse:668.78028\n",
      "[20]\tvalidation-rmse:672.96441\n",
      "[21]\tvalidation-rmse:672.00287\n"
     ]
    },
    {
     "name": "stderr",
     "output_type": "stream",
     "text": [
      "/home/codespace/.local/share/virtualenvs/apartment_rental_north_nj-7H8uMaQy/lib/python3.12/site-packages/xgboost/callback.py:386: UserWarning: [01:31:07] WARNING: /workspace/src/objective/regression_obj.cu:250: reg:linear is now deprecated in favor of reg:squarederror.\n",
      "  self.starting_round = model.num_boosted_rounds()\n"
     ]
    },
    {
     "name": "stdout",
     "output_type": "stream",
     "text": [
      "[22]\tvalidation-rmse:676.68786\n",
      "[23]\tvalidation-rmse:678.54452\n",
      "[24]\tvalidation-rmse:682.99799\n",
      "[25]\tvalidation-rmse:684.02798\n",
      "[26]\tvalidation-rmse:685.08241\n",
      "[27]\tvalidation-rmse:684.42780\n",
      "[28]\tvalidation-rmse:684.46549\n",
      "[29]\tvalidation-rmse:684.70922\n",
      "[30]\tvalidation-rmse:685.69692\n",
      "[31]\tvalidation-rmse:688.45600\n",
      "[32]\tvalidation-rmse:688.84156\n",
      "[33]\tvalidation-rmse:690.13846\n",
      "[34]\tvalidation-rmse:690.20974\n",
      "[35]\tvalidation-rmse:691.90109\n",
      "[36]\tvalidation-rmse:692.61702\n",
      "[37]\tvalidation-rmse:692.18256\n",
      "[38]\tvalidation-rmse:691.95525\n",
      "[39]\tvalidation-rmse:693.33918\n",
      "[40]\tvalidation-rmse:693.80736\n",
      "[41]\tvalidation-rmse:694.91237\n",
      "[42]\tvalidation-rmse:695.31508\n",
      "[43]\tvalidation-rmse:694.84434\n",
      "[44]\tvalidation-rmse:694.81707\n",
      "[45]\tvalidation-rmse:695.67761\n",
      "[46]\tvalidation-rmse:695.85268\n",
      "[47]\tvalidation-rmse:696.95239\n",
      "[48]\tvalidation-rmse:696.53030\n",
      "[49]\tvalidation-rmse:696.08130\n",
      "[50]\tvalidation-rmse:695.76314\n",
      "[51]\tvalidation-rmse:695.54370\n",
      "[52]\tvalidation-rmse:696.31554\n",
      "[53]\tvalidation-rmse:696.36671\n",
      "[54]\tvalidation-rmse:695.98915\n",
      "[55]\tvalidation-rmse:696.23337\n",
      "[56]\tvalidation-rmse:697.25976\n",
      "[57]\tvalidation-rmse:697.73567\n",
      "[58]\tvalidation-rmse:698.53338\n",
      "[59]\tvalidation-rmse:698.21984\n",
      "[60]\tvalidation-rmse:699.16248\n",
      "[61]\tvalidation-rmse:698.87660\n",
      "[62]\tvalidation-rmse:698.46584\n",
      "[63]\tvalidation-rmse:698.64878\n",
      "[64]\tvalidation-rmse:699.22018\n"
     ]
    }
   ],
   "source": [
    "booster = xgb.train(\n",
    "    params=best_params,\n",
    "    dtrain=train,\n",
    "    num_boost_round=1000,\n",
    "    evals=[(valid, 'validation')],\n",
    "    early_stopping_rounds=50\n",
    ")"
   ]
  },
  {
   "cell_type": "code",
   "execution_count": 42,
   "id": "28f81370-ccfe-45ce-b1c6-7d9bab283a33",
   "metadata": {},
   "outputs": [],
   "source": [
    "y_pred = booster.predict(valid)"
   ]
  },
  {
   "cell_type": "code",
   "execution_count": 43,
   "id": "ba62cccb-31f2-4972-b1ef-772196a91cd1",
   "metadata": {},
   "outputs": [
    {
     "data": {
      "text/plain": [
       "array([ 2180.8723,  3580.7273,  4783.8745,  4655.8276,  2105.2305,\n",
       "        2008.3956,  3790.4597,  2002.033 ,  3815.0718,  2226.803 ,\n",
       "        4248.743 ,  3592.6772,  5221.7627,  2408.105 ,  3183.4658,\n",
       "        3876.8462,  2885.412 ,  5477.345 ,  2994.411 ,  1973.9846,\n",
       "        3592.3423,  1539.9742,  2565.5537,  3425.174 ,  1877.0376,\n",
       "        4693.527 ,  2964.364 ,  3229.7085,  2276.1624,  3109.7795,\n",
       "        2502.3826,  1688.5962,  2231.1409,  2349.4285,  3845.8198,\n",
       "        4103.994 ,  4564.0103,  3001.4082,  3947.6528,  8807.249 ,\n",
       "       13131.052 ,  2597.6729,  2713.7805,  4382.9614,  5152.6772,\n",
       "        2806.8762,  3789.5767,  4339.8887,  2143.1768,  2274.2158,\n",
       "        2988.655 ,  1413.9291,  2161.3296,  4290.486 ,  3758.3833,\n",
       "        3104.1362,  4889.2075,  2603.7537,  2207.5522,  2470.6555,\n",
       "        2133.6736,  2819.3477,  2922.7864,  3856.0178,  4704.5503,\n",
       "        3778.4006,  2452.2014,  5444.671 ,  4433.964 ,  2681.1196,\n",
       "        1703.3654,  2568.0576,  2104.5166,  2180.6018,  1953.6731,\n",
       "        3095.959 ,  3001.4082,  2414.7466,  1374.136 ,  3299.8696,\n",
       "        1419.6573,  3706.8743,  3879.7183,  2897.3171,  4718.609 ,\n",
       "        5159.9287,  4690.54  ,  3845.8022,  2126.4167,  5692.7354,\n",
       "        2770.2341,  3716.1458,  5487.653 ,  3450.5376,  4452.056 ,\n",
       "        3634.7483,  3073.3923,  2837.193 ,  4060.9502,  2067.6926,\n",
       "        2226.803 ,  2736.2666,  2313.0667,  2346.2957,  4785.417 ,\n",
       "        2067.478 ,  4357.6274,  2133.6736,  3762.5903,  3958.5151,\n",
       "        5108.362 ,  3828.474 ,  4567.27  ,  1822.9036,  5523.296 ,\n",
       "        3762.5903,  2221.9585,  2445.1416,  3104.1362,  1951.8319,\n",
       "        3853.92  ,  1950.2733,  2464.303 ,  4626.7993,  4451.3726,\n",
       "        1921.9031,  5653.031 ,  4324.167 ,  2269.6187,  5981.905 ,\n",
       "        3113.67  ], dtype=float32)"
      ]
     },
     "execution_count": 43,
     "metadata": {},
     "output_type": "execute_result"
    }
   ],
   "source": [
    "y_pred"
   ]
  },
  {
   "cell_type": "code",
   "execution_count": 51,
   "id": "ee734d6b-3834-4482-9dcc-bb86397f2e7b",
   "metadata": {},
   "outputs": [],
   "source": [
    "from sklearn.metrics import root_mean_squared_error\n",
    "import matplotlib.pyplot as plt"
   ]
  },
  {
   "cell_type": "code",
   "execution_count": 52,
   "id": "33741995-c1dd-436c-b2bb-11a2bff900d6",
   "metadata": {},
   "outputs": [
    {
     "data": {
      "text/plain": [
       "698.7727661132812"
      ]
     },
     "execution_count": 52,
     "metadata": {},
     "output_type": "execute_result"
    }
   ],
   "source": [
    "root_mean_squared_error(y_pred=y_pred, y_true=y_test)"
   ]
  },
  {
   "cell_type": "code",
   "execution_count": 53,
   "id": "28cb8bea-0654-43a9-93b5-d37519933775",
   "metadata": {},
   "outputs": [
    {
     "data": {
      "text/plain": [
       "80.08328247070312"
      ]
     },
     "execution_count": 53,
     "metadata": {},
     "output_type": "execute_result"
    }
   ],
   "source": [
    "\n",
    "root_mean_squared_error(y_pred=booster.predict(train), y_true=y_train)"
   ]
  },
  {
   "cell_type": "code",
   "execution_count": 54,
   "id": "a6a933c7-9ca6-49b7-b142-7aabbf7ab9ed",
   "metadata": {},
   "outputs": [
    {
     "name": "stderr",
     "output_type": "stream",
     "text": [
      "/tmp/ipykernel_50383/644845123.py:7: UserWarning: \n",
      "\n",
      "`distplot` is a deprecated function and will be removed in seaborn v0.14.0.\n",
      "\n",
      "Please adapt your code to use either `displot` (a figure-level function with\n",
      "similar flexibility) or `histplot` (an axes-level function for histograms).\n",
      "\n",
      "For a guide to updating your code to use the new functions, please see\n",
      "https://gist.github.com/mwaskom/de44147ed2974457ad6372750bbe5751\n",
      "\n",
      "  sns.distplot(y_pred, label='prediction')\n",
      "/tmp/ipykernel_50383/644845123.py:8: UserWarning: \n",
      "\n",
      "`distplot` is a deprecated function and will be removed in seaborn v0.14.0.\n",
      "\n",
      "Please adapt your code to use either `displot` (a figure-level function with\n",
      "similar flexibility) or `histplot` (an axes-level function for histograms).\n",
      "\n",
      "For a guide to updating your code to use the new functions, please see\n",
      "https://gist.github.com/mwaskom/de44147ed2974457ad6372750bbe5751\n",
      "\n",
      "  sns.distplot(y_train, label='actual')\n"
     ]
    },
    {
     "data": {
      "text/plain": [
       "<matplotlib.legend.Legend at 0x7f401ab1ac90>"
      ]
     },
     "execution_count": 54,
     "metadata": {},
     "output_type": "execute_result"
    },
    {
     "data": {
      "image/png": "[encoded data removed]",
      "text/plain": [
       "<Figure size 640x480 with 1 Axes>"
      ]
     },
     "metadata": {},
     "output_type": "display_data"
    }
   ],
   "source": [
    "df_test = X_test\n",
    "df_test['price'] = y_test\n",
    "df_test['pred'] = y_pred\n",
    "df_test['diff'] = y_test - y_pred\n",
    "\n",
    "\n",
    "sns.distplot(y_pred, label='prediction')\n",
    "sns.distplot(y_train, label='actual')\n",
    "\n",
    "plt.legend()"
   ]
  },
  {
   "cell_type": "code",
   "execution_count": 55,
   "id": "92888347-ee2f-40fc-b11f-75ab3f218652",
   "metadata": {},
   "outputs": [
    {
     "name": "stderr",
     "output_type": "stream",
     "text": [
      "/tmp/ipykernel_50383/3755871570.py:1: UserWarning: \n",
      "\n",
      "`distplot` is a deprecated function and will be removed in seaborn v0.14.0.\n",
      "\n",
      "Please adapt your code to use either `displot` (a figure-level function with\n",
      "similar flexibility) or `histplot` (an axes-level function for histograms).\n",
      "\n",
      "For a guide to updating your code to use the new functions, please see\n",
      "https://gist.github.com/mwaskom/de44147ed2974457ad6372750bbe5751\n",
      "\n",
      "  sns.distplot(df_test['diff'])\n"
     ]
    },
    {
     "data": {
      "text/plain": [
       "<Axes: xlabel='diff', ylabel='Density'>"
      ]
     },
     "execution_count": 55,
     "metadata": {},
     "output_type": "execute_result"
    },
    {
     "data": {
      "image/png": "[encoded data removed]",
      "text/plain": [
       "<Figure size 640x480 with 1 Axes>"
      ]
     },
     "metadata": {},
     "output_type": "display_data"
    }
   ],
   "source": [
    "sns.distplot(df_test['diff'])"
   ]
  },
  {
   "cell_type": "code",
   "execution_count": null,
   "id": "dfa410ea-f0f7-4e84-91e8-ba9dca17e97d",
   "metadata": {},
   "outputs": [],
   "source": []
  }
 ],
 "metadata": {
  "kernelspec": {
   "display_name": "Python 3 (ipykernel)",
   "language": "python",
   "name": "python3"
  },
  "language_info": {
   "codemirror_mode": {
    "name": "ipython",
    "version": 3
   },
   "file_extension": ".py",
   "mimetype": "text/x-python",
   "name": "python",
   "nbconvert_exporter": "python",
   "pygments_lexer": "ipython3",
   "version": "3.12.3"
  }
 },
 "nbformat": 4,
 "nbformat_minor": 5
}
